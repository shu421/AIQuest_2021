{
 "cells": [
  {
   "cell_type": "code",
   "execution_count": 349,
   "metadata": {},
   "outputs": [
    {
     "name": "stdout",
     "output_type": "stream",
     "text": [
      "train : 55583\n",
      "test:  18528\n",
      "sample_submit : 18528\n"
     ]
    }
   ],
   "source": [
    "import pandas as pd\n",
    "pd.options.display.max_columns = 100\n",
    "import numpy as np\n",
    "from sklearn.preprocessing import LabelEncoder\n",
    "import matplotlib.pyplot as plt\n",
    "%matplotlib inline\n",
    "import seaborn as sns\n",
    "import lightgbm as lgb\n",
    "from sklearn.model_selection import KFold\n",
    "from sklearn.metrics import mean_squared_error\n",
    "\n",
    "train_df = pd.read_csv('../input/train.csv')\n",
    "test_df = pd.read_csv('../input/test.csv')\n",
    "sample_submit = pd.read_csv('../input/sample_submit.csv',header=None, names=['id', 'y'])\n",
    "print('train :', len(train_df))\n",
    "print('test: ', len(test_df))\n",
    "print('sample_submit :', len(sample_submit))"
   ]
  },
  {
   "cell_type": "code",
   "execution_count": 416,
   "metadata": {},
   "outputs": [],
   "source": [
    "train = train_df.copy()\n"
   ]
  },
  {
   "cell_type": "markdown",
   "metadata": {},
   "source": [
    "# preprocess"
   ]
  },
  {
   "cell_type": "code",
   "execution_count": 421,
   "metadata": {},
   "outputs": [
    {
     "name": "stderr",
     "output_type": "stream",
     "text": [
      "/Users/shugo/Desktop/Competitions/SIGNATE/AIQuest2021/venv_AIQuest2021/lib/python3.7/site-packages/ipykernel_launcher.py:14: PerformanceWarning: DataFrame is highly fragmented.  This is usually the result of calling `frame.insert` many times, which has poor performance.  Consider using pd.concat instead.  To get a de-fragmented frame, use `newframe = frame.copy()`\n",
      "  \n"
     ]
    },
    {
     "data": {
      "text/plain": "0        None\n1        None\n2        None\n3        None\n4        None\n         ... \n55578    None\n55579    None\n55580    None\n55581    None\n55582    None\nName: amenities, Length: 55583, dtype: object"
     },
     "execution_count": 421,
     "metadata": {},
     "output_type": "execute_result"
    }
   ],
   "source": [
    "train = train_df.copy()\n",
    "def processing_amenities(x):\n",
    "    x = x.replace('{','')\n",
    "    x = x.replace('}','')\n",
    "    x = x.replace('\"','')\n",
    "    x = x.split(',')\n",
    "    return x\n",
    "\n",
    "train['amenities'] = train['amenities'].apply(processing_amenities)\n",
    "\n",
    "def make_col(x, df):\n",
    "    for i in x:\n",
    "        if i not in df.columns:\n",
    "            df[i] = 0\n",
    "            # tmp = pd.Series(0, name=str(i))\n",
    "            # pd.concat([df, tmp], axis=1)\n",
    "train['amenities'].apply(make_col, df=train)\n",
    "ß\n",
    "# def make_onehot(x, df):\n",
    "#     for i in x:\n",
    "#         df[i] += 1\n",
    "# train['amenities'].apply(make_onehot, df=train)  "
   ]
  },
  {
   "cell_type": "code",
   "execution_count": 351,
   "metadata": {},
   "outputs": [
    {
     "name": "stdout",
     "output_type": "stream",
     "text": [
      "train : 55583\n",
      "test : 18528\n"
     ]
    }
   ],
   "source": [
    "train = train_df.copy()\n",
    "test = test_df.copy()\n",
    "target = train.pop('y')\n",
    "all_df = pd.concat([train, test], axis=0)\n",
    "all_df = all_df.drop(['id','amenities', 'description'], axis=1)\n",
    "\n",
    "# categorical columns\n",
    "cat_col = ['bed_type', 'cancellation_policy', 'city',\n",
    "            'cleaning_fee', 'host_has_profile_pic',\n",
    "            'host_identity_verified', 'instant_bookable',\n",
    "            'name', 'neighbourhood', 'property_type', 'room_type',\n",
    "            'thumbnail_url']\n",
    "all_df[cat_col] = all_df[cat_col].fillna('nan')\n",
    "le = LabelEncoder()\n",
    "for col in cat_col:\n",
    "    all_df[col] = le.fit_transform(all_df[col])\n",
    "\n",
    "def convert_date(df_, col):\n",
    "    df = df_.copy()\n",
    "    df[col] = pd.to_datetime(df[col])\n",
    "    df[f'{col}_year'] = df[col].map(lambda x: x.year)\n",
    "    df[f'{col}_month'] = df[col].map(lambda x: x.month)\n",
    "    df[f'{col}_day'] = df[col].map(lambda x: x.day)\n",
    "    df = df.drop(col, axis=1)\n",
    "    return df\n",
    "all_df = convert_date(all_df, 'first_review')\n",
    "all_df = convert_date(all_df, 'host_since')\n",
    "all_df = convert_date(all_df, 'last_review')\n",
    "\n",
    "\n",
    "def processing_address(x):\n",
    "    if type(x)!=float:\n",
    "        x = x.strip('-')\n",
    "    return x\n",
    "all_df['zipcode'].apply(processing_address)\n",
    "le = LabelEncoder()\n",
    "all_df['zipcode'] = le.fit_transform(all_df['zipcode'])\n",
    "\n",
    "def processing_rate(x):\n",
    "    if x==object:\n",
    "        x.strip('%')\n",
    "    return x\n",
    "all_df['host_response_rate'] = all_df['host_response_rate'].map(processing_rate)\n",
    "le = LabelEncoder()\n",
    "all_df['host_response_rate'] = le.fit_transform(all_df['host_response_rate'])\n",
    "\n",
    "# others\n",
    "le = LabelEncoder()\n",
    "for col in all_df.columns:\n",
    "    all_df[col] = le.fit_transform(all_df[col])\n",
    "\n",
    "\n",
    "train = all_df[:55583]\n",
    "test = all_df[55583:]\n",
    "print('train :', len(train))\n",
    "print('test :', len(test))"
   ]
  },
  {
   "cell_type": "markdown",
   "metadata": {},
   "source": [
    "# train"
   ]
  },
  {
   "cell_type": "code",
   "execution_count": 352,
   "metadata": {},
   "outputs": [
    {
     "name": "stdout",
     "output_type": "stream",
     "text": [
      "Fold0 106.24183635372124\n",
      "Fold1 104.8019817054094\n",
      "Fold2 105.84002304604783\n",
      "Fold3 106.9875681942796\n",
      "Fold4 113.67296730652673\n",
      "rmse : 107.50887532119695\n"
     ]
    }
   ],
   "source": [
    "n_splits = 5\n",
    "kf = KFold(n_splits=n_splits, shuffle=True, random_state=71)\n",
    "X = train\n",
    "y = target\n",
    "models = []\n",
    "scores = []\n",
    "preds = np.zeros((len(test),5))\n",
    "for i, (train_index, valid_index) in enumerate(kf.split(X, y)):\n",
    "\n",
    "    X_train = X.iloc[train_index]\n",
    "    y_train = y.iloc[train_index]\n",
    "    X_valid = X.iloc[valid_index]\n",
    "    y_valid = y.iloc[valid_index]\n",
    "\n",
    "    lgb_train = lgb.Dataset(X_train, y_train)\n",
    "    lgb_valid = lgb.Dataset(X_valid, y_valid)\n",
    "\n",
    "    params ={'objective':'regression',\n",
    "            'seed':71,\n",
    "            'verbose':-1,\n",
    "            'metrics':'rmse'}\n",
    "    model = lgb.train(params, lgb_train, verbose_eval=False, early_stopping_rounds=100,\n",
    "                        valid_names=['train','test'], valid_sets=[lgb_train, lgb_valid])\n",
    "    valid_pred = model.predict(X_valid)\n",
    "    score = mean_squared_error(y_valid, valid_pred, squared=False)\n",
    "\n",
    "    test_pred = model.predict(test)\n",
    "\n",
    "    models.append(model)\n",
    "    scores.append(score)\n",
    "    preds[:,i] = test_pred\n",
    "    print(f'Fold{i}', score)\n",
    "\n",
    "print('cv:', np.mean(scores))"
   ]
  },
  {
   "cell_type": "code",
   "execution_count": 353,
   "metadata": {},
   "outputs": [],
   "source": [
    "def visualize_importance():\n",
    "    feature_importance_df = pd.DataFrame()\n",
    "\n",
    "    for i,model in enumerate(models):\n",
    "        _df = pd.DataFrame()\n",
    "        _df['feature_importance'] = model.feature_importance(importance_type='gain')\n",
    "        _df['column'] = X.columns\n",
    "        _df['fold'] = i+1\n",
    "        feature_importance_df = pd.concat([feature_importance_df,_df],axis=0,ignore_index=True)\n",
    "    \n",
    "    order = feature_importance_df.groupby('column').sum()[['feature_importance']].sort_values('feature_importance',ascending=False).index[:50]\n",
    "\n",
    "    fig, ax = plt.subplots(1,1,figsize=(max(6, len(order) * .4), 6))\n",
    "    sns.boxenplot(data=feature_importance_df, x='column', y='feature_importance', order=order, ax=ax, palette='viridis')\n",
    "    ax.tick_params(axis='x', rotation=90)\n",
    "    ax.grid()\n",
    "    fig.tight_layout()\n",
    "    return fig,ax"
   ]
  },
  {
   "cell_type": "code",
   "execution_count": 354,
   "metadata": {},
   "outputs": [
    {
     "data": {
      "text/plain": "(<Figure size 921.6x432 with 1 Axes>,\n <AxesSubplot:xlabel='column', ylabel='feature_importance'>)"
     },
     "execution_count": 354,
     "metadata": {},
     "output_type": "execute_result"
    },
    {
     "data": {
      "image/png": "[encoded data removed]",
      "text/plain": "<Figure size 921.6x432 with 1 Axes>"
     },
     "metadata": {
      "needs_background": "light"
     },
     "output_type": "display_data"
    }
   ],
   "source": [
    "visualize_importance()"
   ]
  },
  {
   "cell_type": "markdown",
   "metadata": {},
   "source": [
    "# submission"
   ]
  },
  {
   "cell_type": "code",
   "execution_count": 358,
   "metadata": {},
   "outputs": [],
   "source": [
    "y_preds = []\n",
    "for i in range(len(preds)):\n",
    "    y_pred = np.mean(preds[i])\n",
    "    y_preds.append(y_pred)\n",
    "y_preds = pd.Series(y_preds)\n",
    "sample_submit['y'] = y_preds\n",
    "sample_submit.to_csv('../output/sub_nb000.csv', index=False, header=False)"
   ]
  },
  {
   "cell_type": "code",
   "execution_count": null,
   "metadata": {},
   "outputs": [],
   "source": []
  }
 ],
 "metadata": {
  "kernelspec": {
   "display_name": "Python 3.7.4 64-bit ('venv_AIQuest2021': venv)",
   "metadata": {
    "interpreter": {
     "hash": "15fef66a03c73bf24a2a0475bf1c27a64a96d1ed336e647d767845d258329c74"
    }
   },
   "name": "python3"
  },
  "language_info": {
   "codemirror_mode": {
    "name": "ipython",
    "version": 3
   },
   "file_extension": ".py",
   "mimetype": "text/x-python",
   "name": "python",
   "nbconvert_exporter": "python",
   "pygments_lexer": "ipython3",
   "version": "3.7.4"
  },
  "orig_nbformat": 2
 },
 "nbformat": 4,
 "nbformat_minor": 2
}